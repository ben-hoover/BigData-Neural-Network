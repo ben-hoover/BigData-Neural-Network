{
 "cells": [
  {
   "cell_type": "markdown",
   "metadata": {},
   "source": [
    "<h1>Creating A Neural Network to Analyze Police Homicide Rates</h1>\n",
    "\n",
    "This lab creates a neural network, then tests it's accuracy using the violent crime rate and percent black population to predict police homicide rates."
   ]
  },
  {
   "cell_type": "code",
   "execution_count": 156,
   "metadata": {
    "collapsed": false
   },
   "outputs": [
    {
     "name": "stdout",
     "output_type": "stream",
     "text": [
      "Populating the interactive namespace from numpy and matplotlib\n"
     ]
    }
   ],
   "source": [
    "%pylab inline\n",
    "import numpy as np\n",
    "import statistics\n",
    "raw_data = open(\"police.csv\")\n",
    "allData = []\n",
    "for i in raw_data:\n",
    "    allData.append(i)\n",
    "X = []\n",
    "y = []\n",
    "for data in allData:\n",
    "    newRowX = []\n",
    "    newRowY = []\n",
    "    newRowX.append(float(data.split(\",\")[0]))\n",
    "    newRowX.append(float(data.split(\",\")[1]))\n",
    "    newRowY.append(float(data.split(\",\")[2]))\n",
    "    X.append(newRowX)\n",
    "    y.append(newRowY)\n",
    "\n",
    "X = np.asarray(X)\n",
    "y = np.asarray(y)"
   ]
  },
  {
   "cell_type": "markdown",
   "metadata": {},
   "source": [
    "In this part, I read data from the CSV and convert it into a dataset usable by my neural net."
   ]
  },
  {
   "cell_type": "code",
   "execution_count": 196,
   "metadata": {
    "collapsed": true
   },
   "outputs": [],
   "source": [
    "class Neural_Network(object):\n",
    "    def __init__(self):        \n",
    "        #Define Hyperparameters\n",
    "        self.inputLayerSize = 2\n",
    "        self.outputLayerSize = 1\n",
    "        self.hiddenLayerSize = 3\n",
    "    \n",
    "        \n",
    "        #Weights (parameters)\n",
    "        self.W1 = np.random.randn(self.inputLayerSize,self.hiddenLayerSize)\n",
    "        self.W2 = np.random.randn(self.hiddenLayerSize,self.outputLayerSize)\n",
    "        \n",
    "    def forward(self, X):\n",
    "        #Propogate inputs though network\n",
    "        self.z2 = np.dot(X, self.W1)\n",
    "        self.a2 = self.sigmoid(self.z2)\n",
    "        self.z3 = np.dot(self.a2, self.W2)\n",
    "        yHat = self.sigmoid(self.z3) \n",
    "        return yHat\n",
    "        \n",
    "    def sigmoid(self, z):\n",
    "        #Apply sigmoid activation function to scalar, vector, or matrix\n",
    "        return 1/(1+np.exp(-z))\n",
    "    \n",
    "    def sigmoidPrime(self,z):\n",
    "        #Gradient of sigmoid\n",
    "        return np.exp(-z)/((1+np.exp(-z))**2)\n",
    "    \n",
    "    def costFunction(self, X, y):\n",
    "        #Compute cost for given X,y, use weights already stored in class.\n",
    "        self.yHat = self.forward(X)\n",
    "        J = 0.5*sum((y-self.yHat)**2)\n",
    "        return J\n",
    "        \n",
    "    def costFunctionPrime(self, X, y):\n",
    "        #Compute derivative with respect to W and W2 for a given X and y:\n",
    "        self.yHat = self.forward(X)\n",
    "        \n",
    "        delta3 = np.multiply(-(y-self.yHat), self.sigmoidPrime(self.z3))\n",
    "        dJdW2 = np.dot(self.a2.T, delta3)\n",
    "        \n",
    "        delta2 = np.dot(delta3, self.W2.T)*self.sigmoidPrime(self.z2)\n",
    "        dJdW1 = np.dot(X.T, delta2)  \n",
    "        \n",
    "        return dJdW1, dJdW2\n",
    "    \n",
    "    #Helper Functions for interacting with other classes:\n",
    "    def getParams(self):\n",
    "        #Get W1 and W2 unrolled into vector:\n",
    "        params = np.concatenate((self.W1.ravel(), self.W2.ravel()))\n",
    "        return params\n",
    "    \n",
    "    def setParams(self, params):\n",
    "        #Set W1 and W2 using single paramater vector.\n",
    "        W1_start = 0\n",
    "        W1_end = self.hiddenLayerSize * self.inputLayerSize\n",
    "        self.W1 = np.reshape(params[W1_start:W1_end], (self.inputLayerSize , self.hiddenLayerSize))\n",
    "        W2_end = W1_end + self.hiddenLayerSize*self.outputLayerSize\n",
    "        self.W2 = np.reshape(params[W1_end:W2_end], (self.hiddenLayerSize, self.outputLayerSize))\n",
    "        \n",
    "    def computeGradients(self, X, y):\n",
    "        dJdW1, dJdW2 = self.costFunctionPrime(X, y)\n",
    "        return np.concatenate((dJdW1.ravel(), dJdW2.ravel()))\n"
   ]
  },
  {
   "cell_type": "markdown",
   "metadata": {},
   "source": [
    "This code creates the Neural Network Class. To recieve predictions, data is inserted into the \"forward\" method. Here's a rundown of how the network operates:\n",
    "\n",
    "1) The network is instantiated, and the hyperparameters are set. These values include the input layer, hidden layer, and output layer sizes. The input and output layer size have to do with the dimensionality of the data. In this case, our input data is 2 dimensional and the output is 1 dimensional, so we set the input size to 2 and output to 1. The hidden layer size determines the complexity (number of neurons) of the network. In this case, we are setting it to 3. These attributes cannot be changed after the network is created. \n",
    "\n",
    "The network works by multiplying the input data by a specific weight (Synapse), passing them to a neuron, which add together all the data from the synapses connected to them, then applies an activation function. In this case, we are using a sigmoid activation function. These results are then multiplied by a final set of weights, and run through a final activation function to yeild the final predictions. In order for the network to be accurate, it needs to be \"trained,\" to figure out the right combination of weights. However, this comes later. For now, we the instantiation method will set random values for these weights.\n",
    "\n",
    "2) Data is passed into the network through the \"forward\" method, as a numpy matrix array. In this method, 3 new matricies are created. Z2 is the result of matrix multiplication of the input data and the first set of weights. A2 is the result of applying the sigmoid function to the weighted values (Z2). These results are then multiplied by a second set of weights to yeild Z3. Finally, the results are run through a final sigmoid activation function to yeild the results, yHat, which is returned by the method."
   ]
  },
  {
   "cell_type": "markdown",
   "metadata": {},
   "source": [
    "We can now run our data through the neural network and see what it gives us. Turns out the predictions are not even close to correct. This is because our model has not been trained, and is simply using random weights."
   ]
  },
  {
   "cell_type": "code",
   "execution_count": 200,
   "metadata": {
    "collapsed": false
   },
   "outputs": [
    {
     "name": "stdout",
     "output_type": "stream",
     "text": [
      "Predictions: [[ 0.74208231]\n",
      " [ 0.7495746 ]\n",
      " [ 0.74167959]\n",
      " [ 0.74356255]\n",
      " [ 0.73278299]\n",
      " [ 0.74518549]\n",
      " [ 0.74712734]\n",
      " [ 0.74634149]\n",
      " [ 0.733158  ]\n",
      " [ 0.7361778 ]\n",
      " [ 0.73297206]\n",
      " [ 0.73959816]\n",
      " [ 0.73196826]\n",
      " [ 0.75085877]\n",
      " [ 0.73977564]\n",
      " [ 0.7422901 ]\n",
      " [ 0.73643935]\n",
      " [ 0.75017899]\n",
      " [ 0.73570546]\n",
      " [ 0.73160064]\n",
      " [ 0.74681688]\n",
      " [ 0.74103738]\n",
      " [ 0.74469267]\n",
      " [ 0.74012374]\n",
      " [ 0.74397889]\n",
      " [ 0.73196821]\n",
      " [ 0.737785  ]\n",
      " [ 0.74855783]\n",
      " [ 0.74632679]\n",
      " [ 0.74250795]\n",
      " [ 0.75200135]\n",
      " [ 0.74634627]\n",
      " [ 0.74720936]\n",
      " [ 0.74779805]\n",
      " [ 0.7407023 ]\n",
      " [ 0.75102411]\n",
      " [ 0.74937308]\n",
      " [ 0.74391437]\n",
      " [ 0.73615467]\n",
      " [ 0.73234257]\n",
      " [ 0.75332134]\n",
      " [ 0.7484323 ]\n",
      " [ 0.73911331]\n",
      " [ 0.74188182]\n",
      " [ 0.73211883]\n",
      " [ 0.74926495]\n",
      " [ 0.74252635]\n",
      " [ 0.74639969]\n",
      " [ 0.74897346]\n",
      " [ 0.74463582]\n",
      " [ 0.74556816]\n",
      " [ 0.74133414]\n",
      " [ 0.74093234]\n",
      " [ 0.74807347]\n",
      " [ 0.72911915]\n",
      " [ 0.74752336]\n",
      " [ 0.73645939]\n",
      " [ 0.72900881]\n",
      " [ 0.7367217 ]\n",
      " [ 0.73387024]\n",
      " [ 0.73628478]\n",
      " [ 0.74118179]\n",
      " [ 0.7340653 ]\n",
      " [ 0.74016433]\n",
      " [ 0.73953601]\n",
      " [ 0.72679684]\n",
      " [ 0.7405628 ]\n",
      " [ 0.74360078]\n",
      " [ 0.7367965 ]\n",
      " [ 0.73441142]\n",
      " [ 0.74532734]\n",
      " [ 0.73817368]\n",
      " [ 0.75021637]\n",
      " [ 0.74662787]\n",
      " [ 0.74287102]\n",
      " [ 0.74727684]\n",
      " [ 0.74702842]\n",
      " [ 0.73652332]\n",
      " [ 0.74284493]\n",
      " [ 0.7456509 ]\n",
      " [ 0.7377966 ]\n",
      " [ 0.74775002]\n",
      " [ 0.74233054]\n",
      " [ 0.7494481 ]\n",
      " [ 0.74931559]\n",
      " [ 0.75202901]\n",
      " [ 0.74448076]\n",
      " [ 0.74660265]\n",
      " [ 0.72737326]\n",
      " [ 0.74188478]\n",
      " [ 0.73775787]\n",
      " [ 0.73389935]\n",
      " [ 0.74110486]\n",
      " [ 0.73440215]\n",
      " [ 0.74480066]\n",
      " [ 0.73985925]\n",
      " [ 0.74765666]\n",
      " [ 0.73287674]\n",
      " [ 0.74112746]\n",
      " [ 0.73836763]]\n",
      "Actual: [[ 0.275]\n",
      " [ 0.238]\n",
      " [ 0.206]\n",
      " [ 0.137]\n",
      " [ 0.167]\n",
      " [ 0.338]\n",
      " [ 0.215]\n",
      " [ 0.46 ]\n",
      " [ 0.419]\n",
      " [ 0.218]\n",
      " [ 0.236]\n",
      " [ 0.113]\n",
      " [ 0.   ]\n",
      " [ 0.085]\n",
      " [ 0.15 ]\n",
      " [ 0.09 ]\n",
      " [ 0.204]\n",
      " [ 0.041]\n",
      " [ 0.337]\n",
      " [ 0.151]\n",
      " [ 0.072]\n",
      " [ 0.292]\n",
      " [ 0.098]\n",
      " [ 0.234]\n",
      " [ 0.283]\n",
      " [ 0.126]\n",
      " [ 0.219]\n",
      " [ 0.169]\n",
      " [ 0.237]\n",
      " [ 0.202]\n",
      " [ 0.14 ]\n",
      " [ 0.323]\n",
      " [ 0.176]\n",
      " [ 0.221]\n",
      " [ 0.074]\n",
      " [ 0.194]\n",
      " [ 0.134]\n",
      " [ 0.237]\n",
      " [ 0.205]\n",
      " [ 0.28 ]\n",
      " [ 0.   ]\n",
      " [ 0.185]\n",
      " [ 0.256]\n",
      " [ 0.121]\n",
      " [ 0.304]\n",
      " [ 0.169]\n",
      " [ 0.133]\n",
      " [ 0.101]\n",
      " [ 0.116]\n",
      " [ 0.346]\n",
      " [ 0.208]\n",
      " [ 0.151]\n",
      " [ 0.131]\n",
      " [ 0.257]\n",
      " [ 0.263]\n",
      " [ 0.273]\n",
      " [ 0.15 ]\n",
      " [ 0.168]\n",
      " [ 0.131]\n",
      " [ 0.116]\n",
      " [ 0.233]\n",
      " [ 0.07 ]\n",
      " [ 0.108]\n",
      " [ 0.453]\n",
      " [ 0.23 ]\n",
      " [ 0.205]\n",
      " [ 0.534]\n",
      " [ 0.318]\n",
      " [ 0.629]\n",
      " [ 0.131]\n",
      " [ 0.408]\n",
      " [ 0.164]\n",
      " [ 0.   ]\n",
      " [ 0.12 ]\n",
      " [ 0.099]\n",
      " [ 0.355]\n",
      " [ 0.197]\n",
      " [ 0.142]\n",
      " [ 0.193]\n",
      " [ 0.196]\n",
      " [ 0.429]\n",
      " [ 0.153]\n",
      " [ 0.174]\n",
      " [ 0.127]\n",
      " [ 0.339]\n",
      " [ 0.276]\n",
      " [ 0.246]\n",
      " [ 0.383]\n",
      " [ 0.595]\n",
      " [ 0.351]\n",
      " [ 0.368]\n",
      " [ 0.48 ]\n",
      " [ 0.179]\n",
      " [ 0.139]\n",
      " [ 0.327]\n",
      " [ 0.281]\n",
      " [ 0.068]\n",
      " [ 0.216]\n",
      " [ 0.183]\n",
      " [ 0.131]]\n"
     ]
    }
   ],
   "source": [
    "NN = Neural_Network()\n",
    "yHat = NN.forward(X)\n",
    "print(\"Predictions:\", yHat)\n",
    "print(\"Actual:\", y)"
   ]
  },
  {
   "cell_type": "markdown",
   "metadata": {},
   "source": [
    "3) To train the network, we need to minimize the error. We do this by minimizing a \"cost\" function, which is just the sum of all terms of 0.5(y-yhat)^2. This can be rewritten as J = ∑0.5(y - sigmoid(W2*(sigmoid(X*W1)))^2 where W1 and W2 are the first and second sets of weights. We could just try all the values of the weights to find the best combination, but that would take to long. Intead, we can use calculus. \n",
    "\n",
    "Z3 = W2*(sigmoid(X*W1)\n",
    "Taking the derivative, we get the following\n",
    "          y = const.  yhat = sigmoid(Z3)| use the chain rule\n",
    "dj/dw(2) = (y-yhat)* dyhat/dz(3) * dz(3)/dw(2)                            \n",
    "dj/dw(2) = -(y-yhat) * sigmoidprime(Z^3) * dz(3)/dw(2)\n",
    "\n",
    "The slope of Z3 is just A2 (the result of applying the sigmoid function to the weighted values (Z2)).\n",
    "\n",
    "dj/dw2 = -(y-yhat) * sigmoidprime(Z^3) * a2\n",
    "Thanks to the matrix multiplication of A2 and the rest of the equation, everything is added up so we don't need to worry abou the summation.\n",
    "\n",
    "Now we can add on the part about w1\n",
    "\n",
    "dj/dw1 = -(y-yhat) * sigmoidprime(Z^3) * dz(3)/da(2) * da(2)/dw(1)\n",
    "dj/dw1 = -(y-yhat) * sigmoidprime(Z^3) * W(2) * sigmoidprime(z2) * dz(2)/dw(1)\n",
    "dj/dw1 = -(y-yhat) * sigmoidprime(Z^3) * W(2) * sigmoidprime(z2) * X\n",
    "\n",
    "The code to do all this is in the following methods of the Neural Network class: sigmoid, sigmoidPrime, costFunction, costFunctionPrime, and computeGradients.\n",
    "\n",
    "While the details of the calculus can be confusing (I still do not understand all the steps), at a high level this is essentially figuring out the general direction of the cost function as the weights change. This allows us to figure out how the weights need to be changed in order for the cost to be reduced."
   ]
  },
  {
   "cell_type": "code",
   "execution_count": 197,
   "metadata": {
    "collapsed": false
   },
   "outputs": [],
   "source": [
    "def computeNumericalGradient(N, X, y):\n",
    "        paramsInitial = N.getParams()\n",
    "        numgrad = np.zeros(paramsInitial.shape)\n",
    "        perturb = np.zeros(paramsInitial.shape)\n",
    "        e = 1e-4\n",
    "\n",
    "        for p in range(len(paramsInitial)):\n",
    "            #Set perturbation vector\n",
    "            perturb[p] = e\n",
    "            N.setParams(paramsInitial + perturb)\n",
    "            loss2 = N.costFunction(X, y)\n",
    "            \n",
    "            N.setParams(paramsInitial - perturb)\n",
    "            loss1 = N.costFunction(X, y)\n",
    "\n",
    "            #Compute Numerical Gradient\n",
    "            numgrad[p] = (loss2 - loss1) / (2*e)\n",
    "\n",
    "            #Return the value we changed to zero:\n",
    "            perturb[p] = 0\n",
    "            \n",
    "        #Return Params to original value:\n",
    "        N.setParams(paramsInitial)\n",
    "\n",
    "        return numgrad "
   ]
  },
  {
   "cell_type": "code",
   "execution_count": 174,
   "metadata": {
    "collapsed": false
   },
   "outputs": [
    {
     "data": {
      "text/plain": [
       "4.0350007225398199e-11"
      ]
     },
     "execution_count": 174,
     "metadata": {},
     "output_type": "execute_result"
    }
   ],
   "source": [
    "numgrad = computeNumericalGradient(NN, X, y)\n",
    "numgrad\n",
    "\n",
    "grad = NN.computeGradients(X,y)\n",
    "grad\n",
    "\n",
    "norm(grad-numgrad)/norm(grad+numgrad)"
   ]
  },
  {
   "cell_type": "markdown",
   "metadata": {},
   "source": [
    "4) We need a way to verify that our equations are correct, otherwise we have no way of knowing whether the network is working correctly.\n",
    "\n",
    "We can do this by comparing the calculated derivative with a numerically calculated derivative (f'(x) = lim ∆x -> 0   (f(x + ∆x)-f(x))/∆x\n",
    "\n",
    "The computeNumericalGradient calculates the derivative numerically. Above, we compare the analytically calculated derivatives to the numerical ones, by dividing the norm of the difference by the norm of the sum.\n",
    "\n",
    "We would like the results to be equal to or less than 10^-8. In this case, the value is 4.0350007225398199e-11, so we are good."
   ]
  },
  {
   "cell_type": "code",
   "execution_count": 175,
   "metadata": {
    "collapsed": true
   },
   "outputs": [],
   "source": [
    "from scipy import optimize"
   ]
  },
  {
   "cell_type": "code",
   "execution_count": 201,
   "metadata": {
    "collapsed": true
   },
   "outputs": [],
   "source": [
    "class trainer(object):\n",
    "    def __init__(self, N):\n",
    "        #Make Local reference to network:\n",
    "        self.N = N\n",
    "        \n",
    "    def callbackF(self, params):\n",
    "        self.N.setParams(params)\n",
    "        self.J.append(self.N.costFunction(self.X, self.y))   \n",
    "        \n",
    "    def costFunctionWrapper(self, params, X, y):\n",
    "        self.N.setParams(params)\n",
    "        cost = self.N.costFunction(X, y)\n",
    "        grad = self.N.computeGradients(X,y)\n",
    "        \n",
    "        return cost, grad\n",
    "        \n",
    "    def train(self, X, y):\n",
    "        #Make an internal variable for the callback function:\n",
    "        self.X = X\n",
    "        self.y = y\n",
    "\n",
    "        #Make empty list to store costs:\n",
    "        self.J = []\n",
    "        \n",
    "        params0 = self.N.getParams()\n",
    "\n",
    "        options = {'maxiter': 200, 'disp' : True}\n",
    "        _res = optimize.minimize(self.costFunctionWrapper, params0, jac=True, method='BFGS', \\\n",
    "                                 args=(X, y), options=options, callback=self.callbackF)\n",
    "\n",
    "        self.N.setParams(_res.x)\n",
    "        self.optimizationResults = _res\n",
    "    \n"
   ]
  },
  {
   "cell_type": "markdown",
   "metadata": {},
   "source": [
    "5) Now we can train the network by utilizing the derivative of the cost function to determine how to adjust our weights.\n",
    "\n",
    "To do this, we will used an algorithm called BFGS, which determines the magnitude of the movements that should be made using the second derivative, which is built into the SciPy \"optimize\" package.\n",
    "\n",
    "The preceeding code uses this algorithm to train the network. We can now test out our trained network."
   ]
  },
  {
   "cell_type": "code",
   "execution_count": 202,
   "metadata": {
    "collapsed": false
   },
   "outputs": [
    {
     "name": "stdout",
     "output_type": "stream",
     "text": [
      "Warning: Maximum number of iterations has been exceeded.\n",
      "         Current function value: 0.639169\n",
      "         Iterations: 200\n",
      "         Function evaluations: 285\n",
      "         Gradient evaluations: 282\n"
     ]
    }
   ],
   "source": [
    "NN = Neural_Network()\n",
    "T = trainer(NN)\n",
    "T.train(X,y)"
   ]
  },
  {
   "cell_type": "code",
   "execution_count": 203,
   "metadata": {
    "collapsed": false
   },
   "outputs": [
    {
     "data": {
      "text/plain": [
       "<matplotlib.text.Text at 0x111dd52b0>"
      ]
     },
     "execution_count": 203,
     "metadata": {},
     "output_type": "execute_result"
    },
    {
     "data": {
      "image/png": "[encoded data removed]",
      "text/plain": [
       "<matplotlib.figure.Figure at 0x112421e48>"
      ]
     },
     "metadata": {},
     "output_type": "display_data"
    }
   ],
   "source": [
    "plot(T.J)\n",
    "grid(1)\n",
    "xlabel('Iterations')\n",
    "ylabel('Cost')"
   ]
  },
  {
   "cell_type": "markdown",
   "metadata": {
    "collapsed": false
   },
   "source": [
    "The plot above shows how the cost function/error changes with each run through of the BFGS algorithm. As we can see, however, the error is still far from zero. Our input data is the violent crime rate and percent of total population that is black in 100 cities. The output data is the police homicide rate for that city. Since even after 200 iterations, the algorithm was unable to reduce the cost to nearly 0, there is likely very little correlation between the violent crime rate and black population - in other words, the output has little to do with the input and is almost seemingly random. Our model will probably not be extremely accurate."
   ]
  },
  {
   "cell_type": "markdown",
   "metadata": {},
   "source": [
    "Before we try our model, we need to make sure the model is not overfitting. This happens when the model essentially memorizes the dataset instead of modeling the general trend of the dataset.\n",
    "\n",
    "In order to prevent overfitting, the following can be done:\n",
    "1. Have at least 10x as many data as the degrees of freedom in the model. In this case, we have 9 weights, so we need 90 observations. We have 100, so overfitting should not be a problem.\n",
    "\n",
    "2. Use Regularization, which penalizes overly complex models."
   ]
  },
  {
   "cell_type": "markdown",
   "metadata": {},
   "source": [
    "Now we can test our model."
   ]
  },
  {
   "cell_type": "code",
   "execution_count": 217,
   "metadata": {
    "collapsed": false
   },
   "outputs": [
    {
     "name": "stdout",
     "output_type": "stream",
     "text": [
      "Optimization terminated successfully.\n",
      "         Current function value: 0.646115\n",
      "         Iterations: 195\n",
      "         Function evaluations: 226\n",
      "         Gradient evaluations: 222\n"
     ]
    },
    {
     "data": {
      "text/plain": [
       "<matplotlib.text.Text at 0x11324e7f0>"
      ]
     },
     "execution_count": 217,
     "metadata": {},
     "output_type": "execute_result"
    },
    {
     "data": {
      "image/png": "[encoded data removed]",
      "text/plain": [
       "<matplotlib.figure.Figure at 0x11235ac18>"
      ]
     },
     "metadata": {},
     "output_type": "display_data"
    }
   ],
   "source": [
    "NN = Neural_Network()\n",
    "T = trainer(NN)\n",
    "T.train(X,y)\n",
    "yHat = NN.forward(X)\n",
    "\n",
    "dumbArray = []\n",
    "i = 0\n",
    "while (i < 100):\n",
    "    dumbArray.append(i)\n",
    "    i += 1\n",
    "plt.plot(dumbArray, y,'r',label=\"Actual Homicide Rate\")\n",
    "plt.plot(dumbArray, yHat.tolist(),label=\"Predicted Homicide Rate\")\n",
    "plt.legend()\n",
    "plt.title(\"Actual vs Predicted Homicide Rate\")\n",
    "plt.ylabel(\"Homicide Rate\")\n",
    "plt.xlabel(\"City Number\")"
   ]
  },
  {
   "cell_type": "markdown",
   "metadata": {},
   "source": [
    "As visible in the graph, the model gives fairly inaccurate predictions for each city. There are likely too many other variables for the model to be accurate."
   ]
  }
 ],
 "metadata": {
  "anaconda-cloud": {},
  "kernelspec": {
   "display_name": "Python [Root]",
   "language": "python",
   "name": "Python [Root]"
  },
  "language_info": {
   "codemirror_mode": {
    "name": "ipython",
    "version": 3
   },
   "file_extension": ".py",
   "mimetype": "text/x-python",
   "name": "python",
   "nbconvert_exporter": "python",
   "pygments_lexer": "ipython3",
   "version": "3.5.2"
  }
 },
 "nbformat": 4,
 "nbformat_minor": 0
}
